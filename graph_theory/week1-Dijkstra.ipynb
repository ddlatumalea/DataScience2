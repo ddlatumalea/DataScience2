{
 "cells": [
  {
   "cell_type": "markdown",
   "id": "8990615f",
   "metadata": {},
   "source": [
    "# Dijkstra"
   ]
  },
  {
   "cell_type": "markdown",
   "id": "bb62752c",
   "metadata": {},
   "source": [
    "## Pseudocode\n",
    "\n",
    "Finding a path from $P$ to $Q$.\n",
    "\n",
    "$P.path = 0$\n",
    "\n",
    "All $V.path$ in set $C$ = inf\n",
    "\n",
    "$A = \\{P\\}$\n",
    "\n",
    "```\n",
    "while Q does not belong to A:\n",
    "    N(A) <- N(v): v belongs to A.\n",
    "    for neighbour in N(A):\n",
    "        for source in N(neighbour) that intersects with A:\n",
    "            if source.path + w(<source, neighbour>) < neighbour.path:\n",
    "                neighbour.path = source.path + w(<source, neighbour>)\n",
    "                \n",
    "    V_min = neighbour in N(A) that does not belong in A and has the smallest path\n",
    "    A <- union of A and V_min\n",
    "```"
   ]
  },
  {
   "cell_type": "markdown",
   "id": "5f1f0ec5",
   "metadata": {},
   "source": [
    "-------------"
   ]
  },
  {
   "cell_type": "markdown",
   "id": "d66e1f99",
   "metadata": {},
   "source": [
    "**Pseudocode written during lecture**"
   ]
  },
  {
   "cell_type": "markdown",
   "id": "fea7adac",
   "metadata": {},
   "source": [
    "```\n",
    "starting vertex, destination vertex, find shortest path\n",
    "\n",
    "Distances for all nodes to infinity\n",
    "current vertex <- starting vertex\n",
    "visited node = [starting vertex]\n",
    "\n",
    "while not done:\n",
    "    Get neighbours starting vertex and their distances\n",
    "    for all neighbours:\n",
    "        if route is shorter, update distances, previous nodes\n",
    "    current_vertex <- closest unvisited node to starting vertex\n",
    "```"
   ]
  },
  {
   "cell_type": "code",
   "execution_count": 1,
   "id": "a39a8476",
   "metadata": {},
   "outputs": [],
   "source": [
    "import networkx as nx\n",
    "import matplotlib.pyplot as plt\n",
    "import numpy as np"
   ]
  },
  {
   "cell_type": "code",
   "execution_count": 2,
   "id": "2e77be93",
   "metadata": {},
   "outputs": [],
   "source": [
    "vertices = [0, 1, 2, 3, 4, 5, 6, 7]\n",
    "edges = [\n",
    "    (0, 2, {'distance': 3}),\n",
    "    (0, 3, {'distance': 1}),\n",
    "    (0, 4, {'distance': 6}),\n",
    "    (1, 2, {'distance': 2}),\n",
    "    (1, 3, {'distance': 7}),\n",
    "    (2, 0, {'distance': 3}),\n",
    "    (2, 1, {'distance': 2}),\n",
    "    (2, 5, {'distance': 1}),\n",
    "    (4, 5, {'distance': 5}),\n",
    "    (4, 6, {'distance': 3}),\n",
    "    (5, 2, {'distance': 1}),\n",
    "    (5, 4, {'distance': 5}),\n",
    "    (5, 7, {'distance': 4}),\n",
    "    (6, 3, {'distance': 4}),\n",
    "    (6, 4, {'distance': 3}), \n",
    "    (6, 7, {'distance': 2}),\n",
    "    (7, 6, {'distance': 2}),\n",
    "    (7, 5, {'distance': 4})\n",
    "]"
   ]
  },
  {
   "cell_type": "code",
   "execution_count": 3,
   "id": "dcbc6c6e",
   "metadata": {},
   "outputs": [],
   "source": [
    "G = nx.Graph()\n",
    "G.add_nodes_from(vertices)\n",
    "G.add_edges_from(edges)"
   ]
  },
  {
   "cell_type": "code",
   "execution_count": 4,
   "id": "0a97ddff",
   "metadata": {},
   "outputs": [
    {
     "data": {
      "text/plain": [
       "ItemsView(AdjacencyView({0: {2: {'distance': 3}, 3: {'distance': 1}, 4: {'distance': 6}}, 1: {2: {'distance': 2}, 3: {'distance': 7}}, 2: {0: {'distance': 3}, 1: {'distance': 2}, 5: {'distance': 1}}, 3: {0: {'distance': 1}, 1: {'distance': 7}, 6: {'distance': 4}}, 4: {0: {'distance': 6}, 5: {'distance': 5}, 6: {'distance': 3}}, 5: {2: {'distance': 1}, 4: {'distance': 5}, 7: {'distance': 4}}, 6: {4: {'distance': 3}, 3: {'distance': 4}, 7: {'distance': 2}}, 7: {5: {'distance': 4}, 6: {'distance': 2}}}))"
      ]
     },
     "execution_count": 4,
     "metadata": {},
     "output_type": "execute_result"
    }
   ],
   "source": [
    "G.adj.items()"
   ]
  },
  {
   "cell_type": "code",
   "execution_count": 5,
   "id": "294c42f2",
   "metadata": {},
   "outputs": [
    {
     "data": {
      "image/png": "[encoded data removed]",
      "text/plain": [
       "<Figure size 432x288 with 1 Axes>"
      ]
     },
     "metadata": {},
     "output_type": "display_data"
    }
   ],
   "source": [
    "nx.draw_shell(G, with_labels=True)"
   ]
  },
  {
   "cell_type": "markdown",
   "id": "f7d297dd",
   "metadata": {},
   "source": [
    "## Dijkstra"
   ]
  },
  {
   "cell_type": "code",
   "execution_count": null,
   "id": "3fdbb956",
   "metadata": {},
   "outputs": [],
   "source": [
    "def Dijkstra(graph):\n",
    "    paths = "
   ]
  },
  {
   "cell_type": "code",
   "execution_count": 48,
   "id": "fa3e190c",
   "metadata": {},
   "outputs": [
    {
     "data": {
      "text/plain": [
       "[{5: 4}, {2: 3}, {0: 0}]"
      ]
     },
     "execution_count": 48,
     "metadata": {},
     "output_type": "execute_result"
    }
   ],
   "source": [
    "paths = {v: np.inf for v in G.nodes}\n",
    "prev_nodes = {v: np.inf for v in G.nodes}\n",
    "\n",
    "starting_node = 0\n",
    "paths[starting_node] = 0\n",
    "prev_nodes[starting_node] = 0\n",
    "\n",
    "end_node = 5\n",
    "\n",
    "nodes_on_path = [starting_node]\n",
    "\n",
    "while end_node not in nodes_on_path:\n",
    "    for node in nodes_on_path:\n",
    "        neighbours = G[node]\n",
    "        for neighbour, props in neighbours.items():\n",
    "            if paths[node] + props['distance'] < paths[neighbour]:\n",
    "                paths[neighbour] = paths[node] + props['distance']\n",
    "                prev_nodes[neighbour] = node\n",
    "\n",
    "    temp = {k: v for k, v in paths.items() if k not in nodes_on_path}\n",
    "    node_min = min(temp, key=temp.get)\n",
    "\n",
    "    nodes_on_path.append(node_min)\n",
    "\n",
    "traversed_path = []\n",
    "current_node = end_node\n",
    "\n",
    "traversed_path.append(current_node)\n",
    "\n",
    "while starting_node not in traversed_path:\n",
    "    current_node = prev_nodes[current_node]\n",
    "    traversed_path.append(current_node)\n",
    "    \n",
    "[{node: paths[node]} for node in traversed_path]"
   ]
  },
  {
   "cell_type": "code",
   "execution_count": 44,
   "id": "c40ae9c4",
   "metadata": {},
   "outputs": [
    {
     "data": {
      "text/plain": [
       "[5, 2, 0]"
      ]
     },
     "execution_count": 44,
     "metadata": {},
     "output_type": "execute_result"
    }
   ],
   "source": [
    "traversed_path"
   ]
  },
  {
   "cell_type": "code",
   "execution_count": 47,
   "id": "5d3873a6",
   "metadata": {},
   "outputs": [
    {
     "data": {
      "text/plain": [
       "[{5: 4}, {2: 3}, {0: 0}]"
      ]
     },
     "execution_count": 47,
     "metadata": {},
     "output_type": "execute_result"
    }
   ],
   "source": [
    "[{node: paths[node]} for node in traversed_path]"
   ]
  },
  {
   "cell_type": "code",
   "execution_count": null,
   "id": "e0d91b49",
   "metadata": {},
   "outputs": [],
   "source": []
  },
  {
   "cell_type": "code",
   "execution_count": 114,
   "id": "88fe51a6",
   "metadata": {},
   "outputs": [
    {
     "data": {
      "text/plain": [
       "{0: 0, 1: inf, 2: inf, 3: inf, 4: inf, 5: inf, 6: inf, 7: inf}"
      ]
     },
     "execution_count": 114,
     "metadata": {},
     "output_type": "execute_result"
    }
   ],
   "source": [
    "# initial configuration\n",
    "## Every path to vertices are infinity\n",
    "paths = {v: np.inf for v in G.nodes}\n",
    "## starting node\n",
    "P = 0\n",
    "## target node\n",
    "Q = 5\n",
    "## set starting node path length to 0\n",
    "visited_nodes = []\n",
    "visited_nodes.append(P)\n",
    "\n",
    "while Q not in visited_nodes:\n",
    "    current_node = visited_nodes[-1]\n",
    "    for neighbour in G.adj.items()[current_node]:\n",
    "        "
   ]
  },
  {
   "cell_type": "code",
   "execution_count": 106,
   "id": "f31f1ca0",
   "metadata": {},
   "outputs": [
    {
     "data": {
      "text/plain": [
       "[0, 2, 5]"
      ]
     },
     "execution_count": 106,
     "metadata": {},
     "output_type": "execute_result"
    }
   ],
   "source": [
    "nx.dijkstra_path(G, 0, 5)"
   ]
  },
  {
   "cell_type": "code",
   "execution_count": 190,
   "id": "97d56644",
   "metadata": {},
   "outputs": [
    {
     "name": "stdout",
     "output_type": "stream",
     "text": [
      "0 {'distance': 1}\n",
      "1 {'distance': 7}\n",
      "6 {'distance': 4}\n"
     ]
    },
    {
     "data": {
      "text/plain": [
       "[0, 3, 6]"
      ]
     },
     "execution_count": 190,
     "metadata": {},
     "output_type": "execute_result"
    }
   ],
   "source": [
    "P = 0\n",
    "visited_nodes = []\n",
    "visited_nodes.append(P)\n",
    "\n",
    "paths = {v: np.inf for v in G.nodes}\n",
    "paths[P] = 0\n",
    "\n",
    "# testing\n",
    "visited_nodes.append(3)\n",
    "paths[3] = 1\n",
    "\n",
    "current_node = visited_nodes[-1]\n",
    "\n",
    "for neighbour, props in dict(G[current_node]).items():\n",
    "    print(neighbour, props)\n",
    "    if (paths[current_node] + props['distance']) < paths[neighbour]:\n",
    "        paths[neighbour] = paths[current_node] + props['distance']\n",
    "        \n",
    "temp = {k: v for k, v in paths.items() if k not in visited_nodes}\n",
    "neighbour_min = min(temp, key=temp.get)\n",
    "    \n",
    "visited_nodes.append(neighbour_min)\n",
    "        \n",
    "    \n",
    "visited_nodes"
   ]
  },
  {
   "cell_type": "code",
   "execution_count": null,
   "id": "6c3b0321",
   "metadata": {},
   "outputs": [],
   "source": [
    "paths = "
   ]
  },
  {
   "cell_type": "code",
   "execution_count": 169,
   "id": "9703663f",
   "metadata": {},
   "outputs": [
    {
     "data": {
      "text/plain": [
       "False"
      ]
     },
     "execution_count": 169,
     "metadata": {},
     "output_type": "execute_result"
    }
   ],
   "source": [
    "visited_nodes in list(paths.keys())"
   ]
  },
  {
   "cell_type": "code",
   "execution_count": 171,
   "id": "423c9b1f",
   "metadata": {},
   "outputs": [
    {
     "data": {
      "text/plain": [
       "0"
      ]
     },
     "execution_count": 171,
     "metadata": {},
     "output_type": "execute_result"
    }
   ],
   "source": [
    "min(paths, key=paths.get)"
   ]
  },
  {
   "cell_type": "code",
   "execution_count": 183,
   "id": "cb7c2b2d",
   "metadata": {},
   "outputs": [
    {
     "data": {
      "text/plain": [
       "{0: 0, 1: inf, 2: 3, 3: 1, 4: 6, 5: inf, 6: inf, 7: inf}"
      ]
     },
     "execution_count": 183,
     "metadata": {},
     "output_type": "execute_result"
    }
   ],
   "source": [
    "paths"
   ]
  },
  {
   "cell_type": "code",
   "execution_count": 180,
   "id": "5e281e8e",
   "metadata": {},
   "outputs": [
    {
     "data": {
      "text/plain": [
       "[0]"
      ]
     },
     "execution_count": 180,
     "metadata": {},
     "output_type": "execute_result"
    }
   ],
   "source": [
    "visited_nodes"
   ]
  },
  {
   "cell_type": "code",
   "execution_count": 185,
   "id": "42c8f9e5",
   "metadata": {},
   "outputs": [
    {
     "data": {
      "text/plain": [
       "3"
      ]
     },
     "execution_count": 185,
     "metadata": {},
     "output_type": "execute_result"
    }
   ],
   "source": [
    "temp = {k: v for k, v in paths.items() if k not in visited_nodes}\n",
    "min(temp, key=temp.get)"
   ]
  },
  {
   "cell_type": "markdown",
   "id": "503ee7f0",
   "metadata": {},
   "source": [
    "```\n",
    "starting vertex, destination vertex, find shortest path\n",
    "\n",
    "Distances for all nodes to infinity\n",
    "current vertex <- starting vertex\n",
    "visited node = [starting vertex]\n",
    "\n",
    "while not done:\n",
    "    Get neighbours starting vertex and their distances\n",
    "    for all neighbours:\n",
    "        if route is shorter, update distances, previous nodes\n",
    "    current_vertex <- closest unvisited node to starting vertex\n",
    "```"
   ]
  },
  {
   "cell_type": "markdown",
   "id": "ded81506",
   "metadata": {},
   "source": [
    "### Testing"
   ]
  },
  {
   "cell_type": "code",
   "execution_count": 40,
   "id": "9801f684",
   "metadata": {},
   "outputs": [],
   "source": [
    "G = nx.Graph()\n",
    "G.add_node(1)\n",
    "G.add_nodes_from([2, 3])"
   ]
  },
  {
   "cell_type": "code",
   "execution_count": 41,
   "id": "608b8f39",
   "metadata": {},
   "outputs": [
    {
     "data": {
      "text/plain": [
       "NodeView((1, 2, 3))"
      ]
     },
     "execution_count": 41,
     "metadata": {},
     "output_type": "execute_result"
    }
   ],
   "source": [
    "G.nodes"
   ]
  },
  {
   "cell_type": "code",
   "execution_count": 43,
   "id": "0926034a",
   "metadata": {},
   "outputs": [],
   "source": [
    "G.add_edges_from([(1, 2, {'distance': 1}), (1, 3, {'distance': 5})])"
   ]
  },
  {
   "cell_type": "code",
   "execution_count": 44,
   "id": "79c053b4",
   "metadata": {},
   "outputs": [
    {
     "data": {
      "text/plain": [
       "[(1, 2), (1, 3)]"
      ]
     },
     "execution_count": 44,
     "metadata": {},
     "output_type": "execute_result"
    }
   ],
   "source": [
    "list(G.edges)"
   ]
  },
  {
   "cell_type": "code",
   "execution_count": 45,
   "id": "e10339ba",
   "metadata": {},
   "outputs": [
    {
     "data": {
      "text/plain": [
       "1"
      ]
     },
     "execution_count": 45,
     "metadata": {},
     "output_type": "execute_result"
    }
   ],
   "source": [
    "G.degree(2)"
   ]
  },
  {
   "cell_type": "code",
   "execution_count": 46,
   "id": "93654a49",
   "metadata": {},
   "outputs": [
    {
     "data": {
      "text/plain": [
       "1"
      ]
     },
     "execution_count": 46,
     "metadata": {},
     "output_type": "execute_result"
    }
   ],
   "source": [
    "G.edges[1, 2]['distance']"
   ]
  },
  {
   "cell_type": "code",
   "execution_count": 47,
   "id": "7b67afcd",
   "metadata": {},
   "outputs": [
    {
     "data": {
      "text/plain": [
       "ItemsView(AdjacencyView({1: {2: {'distance': 1}, 3: {'distance': 5}}, 2: {1: {'distance': 1}}, 3: {1: {'distance': 5}}}))"
      ]
     },
     "execution_count": 47,
     "metadata": {},
     "output_type": "execute_result"
    }
   ],
   "source": [
    "G.adj.items()"
   ]
  },
  {
   "cell_type": "code",
   "execution_count": 58,
   "id": "c29d4359",
   "metadata": {},
   "outputs": [
    {
     "name": "stdout",
     "output_type": "stream",
     "text": [
      "neighbour: 2\n",
      "distance to neighbour: 1\n",
      "neighbour: 3\n",
      "distance to neighbour: 5\n"
     ]
    }
   ],
   "source": [
    "for neighbour in G[1].items():\n",
    "    print('neighbour:', neighbour[0])\n",
    "    print('distance to neighbour:', neighbour[1]['distance'])"
   ]
  },
  {
   "cell_type": "code",
   "execution_count": 50,
   "id": "b869c297",
   "metadata": {},
   "outputs": [
    {
     "data": {
      "text/plain": [
       "{'distance': 1}"
      ]
     },
     "execution_count": 50,
     "metadata": {},
     "output_type": "execute_result"
    }
   ],
   "source": [
    "G[1][2]"
   ]
  },
  {
   "cell_type": "code",
   "execution_count": null,
   "id": "b8e2912b",
   "metadata": {},
   "outputs": [],
   "source": []
  }
 ],
 "metadata": {
  "kernelspec": {
   "display_name": "Python 3 (ipykernel)",
   "language": "python",
   "name": "python3"
  },
  "language_info": {
   "codemirror_mode": {
    "name": "ipython",
    "version": 3
   },
   "file_extension": ".py",
   "mimetype": "text/x-python",
   "name": "python",
   "nbconvert_exporter": "python",
   "pygments_lexer": "ipython3",
   "version": "3.9.7"
  }
 },
 "nbformat": 4,
 "nbformat_minor": 5
}
