{
 "cells": [
  {
   "cell_type": "markdown",
   "id": "8990615f",
   "metadata": {},
   "source": [
    "# Dijkstra"
   ]
  },
  {
   "cell_type": "markdown",
   "id": "bb62752c",
   "metadata": {},
   "source": [
    "## Pseudocode\n",
    "\n",
    "Finding a path from $P$ to $Q$.\n",
    "\n",
    "$P.path = 0$\n",
    "\n",
    "All $V.path$ in set $C$ = inf\n",
    "\n",
    "$A = \\{P\\}$\n",
    "\n",
    "```\n",
    "while Q does not belong to A:\n",
    "    N(A) <- N(v): v belongs to A.\n",
    "    for neighbour in N(A):\n",
    "        for source in N(neighbour) that intersects with A:\n",
    "            if source.path + w(<source, neighbour>) < neighbour.path:\n",
    "                neighbour.path = source.path + w(<source, neighbour>)\n",
    "                \n",
    "    V_min = neighbour in N(A) that does not belong in A and has the smallest path\n",
    "    A <- union of A and V_min\n",
    "```"
   ]
  },
  {
   "cell_type": "code",
   "execution_count": null,
   "id": "b350dbcd",
   "metadata": {},
   "outputs": [],
   "source": []
  }
 ],
 "metadata": {
  "kernelspec": {
   "display_name": "Python 3 (ipykernel)",
   "language": "python",
   "name": "python3"
  },
  "language_info": {
   "codemirror_mode": {
    "name": "ipython",
    "version": 3
   },
   "file_extension": ".py",
   "mimetype": "text/x-python",
   "name": "python",
   "nbconvert_exporter": "python",
   "pygments_lexer": "ipython3",
   "version": "3.8.12"
  }
 },
 "nbformat": 4,
 "nbformat_minor": 5
}
