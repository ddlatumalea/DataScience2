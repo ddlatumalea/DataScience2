{
 "cells": [
  {
   "cell_type": "code",
   "execution_count": 1,
   "id": "d37fcf36",
   "metadata": {},
   "outputs": [],
   "source": [
    "import pandas as pd\n",
    "import numpy as np\n",
    "import networkx as nx\n",
    "import matplotlib.pyplot as plt"
   ]
  },
  {
   "cell_type": "code",
   "execution_count": 2,
   "id": "71ce95e7",
   "metadata": {},
   "outputs": [
    {
     "data": {
      "image/png": "[encoded data removed]",
      "text/plain": [
       "<Figure size 432x288 with 1 Axes>"
      ]
     },
     "metadata": {},
     "output_type": "display_data"
    }
   ],
   "source": [
    "G = nx.Graph()\n",
    "\n",
    "G.add_nodes_from([1, 2, 3, 4, 5, 6, 7])\n",
    "G.add_edges_from([\n",
    "    (1, 2, {'weight': 1}), (1, 5, {'weight': 3}), (1, 7, {'weight': 2}),\n",
    "    (2, 4, {'weight': 2}), (2, 3, {'weight': 5}),\n",
    "    (3, 7, {'weight': 3}), (3, 6, {'weight': 2}),\n",
    "    (5, 7, {'weight': 1}),\n",
    "    (6, 7, {'weight': 5}),\n",
    "])\n",
    "\n",
    "pos=nx.spring_layout(G, seed=5, k=10)\n",
    "nx.draw_networkx(G,pos)\n",
    "\n",
    "labels = nx.get_edge_attributes(G,'weight')\n",
    "nx.draw_networkx_edge_labels(G,pos,edge_labels=labels)\n",
    "\n",
    "plt.show()"
   ]
  },
  {
   "cell_type": "markdown",
   "id": "b5856e73",
   "metadata": {},
   "source": [
    "## Distance statistics\n",
    "**<a href=\"#distance\">(Geodesic) Distance</a>** between $u$ and $v$, denoted as $d(u, v)$ is the length of a shortest ($u$, $v$)-path.\n",
    "\n",
    "**<a href=\"#eccentricity\">Eccentricity</a>**: how far the farthest vertex from $u$ is positioned in the network. $\\epsilon$($u$) = $max\\{d(u, v) | v \\in V(G)\\}$\n",
    "\n",
    "**<a href=\"#radius\">Radius</a>**: how disseperate the vertices are. $rad(G) = min\\{\\epsilon (u)|u \\in V(G)\\}$\n",
    "\n",
    "**<a href=\"#diameter\">Diameter</a>**: tells what the maximal distance is, thus the maximal shortest path. $diam(G) = max\\{d(u, v)|u, v \\in V(G)\\}$ \n",
    "\n",
    "\n",
    "**<a href=\"#avg_len_path\">Average length of shortest path</a>**: $\\bar{d}(u) = \\frac{1}{|V|-1} \\Sigma_{v\\in V, v\\neq u} d(u, v)$\n",
    "\n",
    "**<a href=\"#avg_path\">Average path length</a>**: $\\bar{d}(G) = \\frac{1}{|V|} \\Sigma_{u \\in V} \\bar{d}(u)$\n",
    "\n",
    "**<a href=\"#char_path\">Characteristic path length</a>** of G is defined as the median over all $\\bar{d}(u)$"
   ]
  },
  {
   "cell_type": "markdown",
   "id": "502499dc",
   "metadata": {},
   "source": [
    "--------------\n",
    "<span id='distance'></span>\n",
    "#### (Geodesic) distance"
   ]
  },
  {
   "cell_type": "code",
   "execution_count": 5,
   "id": "e3ce15a0",
   "metadata": {},
   "outputs": [
    {
     "data": {
      "text/html": [
       "<div>\n",
       "<style scoped>\n",
       "    .dataframe tbody tr th:only-of-type {\n",
       "        vertical-align: middle;\n",
       "    }\n",
       "\n",
       "    .dataframe tbody tr th {\n",
       "        vertical-align: top;\n",
       "    }\n",
       "\n",
       "    .dataframe thead th {\n",
       "        text-align: right;\n",
       "    }\n",
       "</style>\n",
       "<table border=\"1\" class=\"dataframe\">\n",
       "  <thead>\n",
       "    <tr style=\"text-align: right;\">\n",
       "      <th></th>\n",
       "      <th>1</th>\n",
       "      <th>2</th>\n",
       "      <th>3</th>\n",
       "      <th>4</th>\n",
       "      <th>5</th>\n",
       "      <th>6</th>\n",
       "      <th>7</th>\n",
       "    </tr>\n",
       "  </thead>\n",
       "  <tbody>\n",
       "    <tr>\n",
       "      <th>1</th>\n",
       "      <td>0</td>\n",
       "      <td>1</td>\n",
       "      <td>5</td>\n",
       "      <td>3</td>\n",
       "      <td>3</td>\n",
       "      <td>7</td>\n",
       "      <td>2</td>\n",
       "    </tr>\n",
       "    <tr>\n",
       "      <th>2</th>\n",
       "      <td>1</td>\n",
       "      <td>0</td>\n",
       "      <td>5</td>\n",
       "      <td>2</td>\n",
       "      <td>4</td>\n",
       "      <td>7</td>\n",
       "      <td>3</td>\n",
       "    </tr>\n",
       "    <tr>\n",
       "      <th>3</th>\n",
       "      <td>5</td>\n",
       "      <td>5</td>\n",
       "      <td>0</td>\n",
       "      <td>7</td>\n",
       "      <td>4</td>\n",
       "      <td>2</td>\n",
       "      <td>3</td>\n",
       "    </tr>\n",
       "    <tr>\n",
       "      <th>4</th>\n",
       "      <td>3</td>\n",
       "      <td>2</td>\n",
       "      <td>7</td>\n",
       "      <td>0</td>\n",
       "      <td>6</td>\n",
       "      <td>9</td>\n",
       "      <td>5</td>\n",
       "    </tr>\n",
       "    <tr>\n",
       "      <th>5</th>\n",
       "      <td>3</td>\n",
       "      <td>4</td>\n",
       "      <td>4</td>\n",
       "      <td>6</td>\n",
       "      <td>0</td>\n",
       "      <td>6</td>\n",
       "      <td>1</td>\n",
       "    </tr>\n",
       "    <tr>\n",
       "      <th>6</th>\n",
       "      <td>7</td>\n",
       "      <td>7</td>\n",
       "      <td>2</td>\n",
       "      <td>9</td>\n",
       "      <td>6</td>\n",
       "      <td>0</td>\n",
       "      <td>5</td>\n",
       "    </tr>\n",
       "    <tr>\n",
       "      <th>7</th>\n",
       "      <td>2</td>\n",
       "      <td>3</td>\n",
       "      <td>3</td>\n",
       "      <td>5</td>\n",
       "      <td>1</td>\n",
       "      <td>5</td>\n",
       "      <td>0</td>\n",
       "    </tr>\n",
       "  </tbody>\n",
       "</table>\n",
       "</div>"
      ],
      "text/plain": [
       "   1  2  3  4  5  6  7\n",
       "1  0  1  5  3  3  7  2\n",
       "2  1  0  5  2  4  7  3\n",
       "3  5  5  0  7  4  2  3\n",
       "4  3  2  7  0  6  9  5\n",
       "5  3  4  4  6  0  6  1\n",
       "6  7  7  2  9  6  0  5\n",
       "7  2  3  3  5  1  5  0"
      ]
     },
     "execution_count": 5,
     "metadata": {},
     "output_type": "execute_result"
    }
   ],
   "source": [
    "shortest_paths = dict(nx.all_pairs_dijkstra(G))\n",
    "\n",
    "data = {}\n",
    "for k in shortest_paths.keys():\n",
    "    data[k] = {k: v for k, v in sorted(list(shortest_paths[k][0].items()))}\n",
    "    \n",
    "df = pd.DataFrame(data=data)\n",
    "df"
   ]
  },
  {
   "cell_type": "markdown",
   "id": "cc61805d",
   "metadata": {},
   "source": [
    "<span id=\"eccentricity\"></span>\n",
    "#### Eccentricity"
   ]
  },
  {
   "cell_type": "code",
   "execution_count": 6,
   "id": "b26952b6",
   "metadata": {},
   "outputs": [
    {
     "data": {
      "text/html": [
       "<div>\n",
       "<style scoped>\n",
       "    .dataframe tbody tr th:only-of-type {\n",
       "        vertical-align: middle;\n",
       "    }\n",
       "\n",
       "    .dataframe tbody tr th {\n",
       "        vertical-align: top;\n",
       "    }\n",
       "\n",
       "    .dataframe thead th {\n",
       "        text-align: right;\n",
       "    }\n",
       "</style>\n",
       "<table border=\"1\" class=\"dataframe\">\n",
       "  <thead>\n",
       "    <tr style=\"text-align: right;\">\n",
       "      <th></th>\n",
       "      <th>1</th>\n",
       "      <th>2</th>\n",
       "      <th>3</th>\n",
       "      <th>4</th>\n",
       "      <th>5</th>\n",
       "      <th>6</th>\n",
       "      <th>7</th>\n",
       "      <th>eccentricity</th>\n",
       "    </tr>\n",
       "  </thead>\n",
       "  <tbody>\n",
       "    <tr>\n",
       "      <th>1</th>\n",
       "      <td>0</td>\n",
       "      <td>1</td>\n",
       "      <td>5</td>\n",
       "      <td>3</td>\n",
       "      <td>3</td>\n",
       "      <td>7</td>\n",
       "      <td>2</td>\n",
       "      <td>7</td>\n",
       "    </tr>\n",
       "    <tr>\n",
       "      <th>2</th>\n",
       "      <td>1</td>\n",
       "      <td>0</td>\n",
       "      <td>5</td>\n",
       "      <td>2</td>\n",
       "      <td>4</td>\n",
       "      <td>7</td>\n",
       "      <td>3</td>\n",
       "      <td>7</td>\n",
       "    </tr>\n",
       "    <tr>\n",
       "      <th>3</th>\n",
       "      <td>5</td>\n",
       "      <td>5</td>\n",
       "      <td>0</td>\n",
       "      <td>7</td>\n",
       "      <td>4</td>\n",
       "      <td>2</td>\n",
       "      <td>3</td>\n",
       "      <td>7</td>\n",
       "    </tr>\n",
       "    <tr>\n",
       "      <th>4</th>\n",
       "      <td>3</td>\n",
       "      <td>2</td>\n",
       "      <td>7</td>\n",
       "      <td>0</td>\n",
       "      <td>6</td>\n",
       "      <td>9</td>\n",
       "      <td>5</td>\n",
       "      <td>9</td>\n",
       "    </tr>\n",
       "    <tr>\n",
       "      <th>5</th>\n",
       "      <td>3</td>\n",
       "      <td>4</td>\n",
       "      <td>4</td>\n",
       "      <td>6</td>\n",
       "      <td>0</td>\n",
       "      <td>6</td>\n",
       "      <td>1</td>\n",
       "      <td>6</td>\n",
       "    </tr>\n",
       "    <tr>\n",
       "      <th>6</th>\n",
       "      <td>7</td>\n",
       "      <td>7</td>\n",
       "      <td>2</td>\n",
       "      <td>9</td>\n",
       "      <td>6</td>\n",
       "      <td>0</td>\n",
       "      <td>5</td>\n",
       "      <td>9</td>\n",
       "    </tr>\n",
       "    <tr>\n",
       "      <th>7</th>\n",
       "      <td>2</td>\n",
       "      <td>3</td>\n",
       "      <td>3</td>\n",
       "      <td>5</td>\n",
       "      <td>1</td>\n",
       "      <td>5</td>\n",
       "      <td>0</td>\n",
       "      <td>5</td>\n",
       "    </tr>\n",
       "  </tbody>\n",
       "</table>\n",
       "</div>"
      ],
      "text/plain": [
       "   1  2  3  4  5  6  7  eccentricity\n",
       "1  0  1  5  3  3  7  2             7\n",
       "2  1  0  5  2  4  7  3             7\n",
       "3  5  5  0  7  4  2  3             7\n",
       "4  3  2  7  0  6  9  5             9\n",
       "5  3  4  4  6  0  6  1             6\n",
       "6  7  7  2  9  6  0  5             9\n",
       "7  2  3  3  5  1  5  0             5"
      ]
     },
     "execution_count": 6,
     "metadata": {},
     "output_type": "execute_result"
    }
   ],
   "source": [
    "df['eccentricity'] = df.max(axis=0)\n",
    "df"
   ]
  },
  {
   "cell_type": "code",
   "execution_count": 16,
   "id": "2c7a3d07",
   "metadata": {},
   "outputs": [
    {
     "name": "stdout",
     "output_type": "stream",
     "text": [
      "{1: 7, 2: 7, 3: 7, 4: 9, 5: 6, 6: 9, 7: 5}\n",
      "{1: 7, 2: 7, 3: 7, 4: 9, 5: 6, 6: 9, 7: 5}\n"
     ]
    }
   ],
   "source": [
    "# Double check with built-in function\n",
    "print(nx.eccentricity(G, sp={k: v[0] for (k, v) in shortest_paths.items()}))\n",
    "\n",
    "# or\n",
    "print(nx.eccentricity(G, sp=df.to_dict()))"
   ]
  },
  {
   "cell_type": "markdown",
   "id": "a132973d",
   "metadata": {},
   "source": [
    "<span id=\"radius\"></span>\n",
    "\n",
    "#### Radius"
   ]
  },
  {
   "cell_type": "code",
   "execution_count": 24,
   "id": "3f6e9af5",
   "metadata": {},
   "outputs": [
    {
     "name": "stdout",
     "output_type": "stream",
     "text": [
      "Radius of graph G, rad(G) = 5\n"
     ]
    }
   ],
   "source": [
    "radius = df['eccentricity'].min()\n",
    "print('Radius of graph G, rad(G) = {}'.format(radius))"
   ]
  },
  {
   "cell_type": "code",
   "execution_count": 26,
   "id": "8f3002d9",
   "metadata": {},
   "outputs": [
    {
     "data": {
      "text/plain": [
       "5"
      ]
     },
     "execution_count": 26,
     "metadata": {},
     "output_type": "execute_result"
    }
   ],
   "source": [
    "# Double check\n",
    "nx.radius(G, df['eccentricity'].to_dict())"
   ]
  },
  {
   "cell_type": "markdown",
   "id": "8a7868e8",
   "metadata": {},
   "source": [
    "<span id=\"diameter\"></span>\n",
    "#### Diameter"
   ]
  },
  {
   "cell_type": "code",
   "execution_count": 27,
   "id": "d848e415",
   "metadata": {},
   "outputs": [
    {
     "name": "stdout",
     "output_type": "stream",
     "text": [
      "The diameter of graph G, diam(G) = 9\n"
     ]
    }
   ],
   "source": [
    "diam = df['eccentricity'].max()\n",
    "print('The diameter of graph G, diam(G) = {}'.format(diam))"
   ]
  },
  {
   "cell_type": "code",
   "execution_count": 28,
   "id": "51cd1a2f",
   "metadata": {},
   "outputs": [
    {
     "data": {
      "text/plain": [
       "9"
      ]
     },
     "execution_count": 28,
     "metadata": {},
     "output_type": "execute_result"
    }
   ],
   "source": [
    "# double check\n",
    "nx.diameter(G, df['eccentricity'].to_dict())"
   ]
  },
  {
   "cell_type": "markdown",
   "id": "28fe0179",
   "metadata": {},
   "source": [
    "<span id=\"avg_len_path\"></span>\n",
    "#### Average length of shortest path"
   ]
  },
  {
   "cell_type": "code",
   "execution_count": 33,
   "id": "ac9d760b",
   "metadata": {},
   "outputs": [
    {
     "data": {
      "text/html": [
       "<div>\n",
       "<style scoped>\n",
       "    .dataframe tbody tr th:only-of-type {\n",
       "        vertical-align: middle;\n",
       "    }\n",
       "\n",
       "    .dataframe tbody tr th {\n",
       "        vertical-align: top;\n",
       "    }\n",
       "\n",
       "    .dataframe thead th {\n",
       "        text-align: right;\n",
       "    }\n",
       "</style>\n",
       "<table border=\"1\" class=\"dataframe\">\n",
       "  <thead>\n",
       "    <tr style=\"text-align: right;\">\n",
       "      <th></th>\n",
       "      <th>1</th>\n",
       "      <th>2</th>\n",
       "      <th>3</th>\n",
       "      <th>4</th>\n",
       "      <th>5</th>\n",
       "      <th>6</th>\n",
       "      <th>7</th>\n",
       "      <th>eccentricity</th>\n",
       "      <th>average_path</th>\n",
       "    </tr>\n",
       "  </thead>\n",
       "  <tbody>\n",
       "    <tr>\n",
       "      <th>1</th>\n",
       "      <td>0</td>\n",
       "      <td>1</td>\n",
       "      <td>5</td>\n",
       "      <td>3</td>\n",
       "      <td>3</td>\n",
       "      <td>7</td>\n",
       "      <td>2</td>\n",
       "      <td>7</td>\n",
       "      <td>3.500000</td>\n",
       "    </tr>\n",
       "    <tr>\n",
       "      <th>2</th>\n",
       "      <td>1</td>\n",
       "      <td>0</td>\n",
       "      <td>5</td>\n",
       "      <td>2</td>\n",
       "      <td>4</td>\n",
       "      <td>7</td>\n",
       "      <td>3</td>\n",
       "      <td>7</td>\n",
       "      <td>3.666667</td>\n",
       "    </tr>\n",
       "    <tr>\n",
       "      <th>3</th>\n",
       "      <td>5</td>\n",
       "      <td>5</td>\n",
       "      <td>0</td>\n",
       "      <td>7</td>\n",
       "      <td>4</td>\n",
       "      <td>2</td>\n",
       "      <td>3</td>\n",
       "      <td>7</td>\n",
       "      <td>4.333333</td>\n",
       "    </tr>\n",
       "    <tr>\n",
       "      <th>4</th>\n",
       "      <td>3</td>\n",
       "      <td>2</td>\n",
       "      <td>7</td>\n",
       "      <td>0</td>\n",
       "      <td>6</td>\n",
       "      <td>9</td>\n",
       "      <td>5</td>\n",
       "      <td>9</td>\n",
       "      <td>5.333333</td>\n",
       "    </tr>\n",
       "    <tr>\n",
       "      <th>5</th>\n",
       "      <td>3</td>\n",
       "      <td>4</td>\n",
       "      <td>4</td>\n",
       "      <td>6</td>\n",
       "      <td>0</td>\n",
       "      <td>6</td>\n",
       "      <td>1</td>\n",
       "      <td>6</td>\n",
       "      <td>4.000000</td>\n",
       "    </tr>\n",
       "    <tr>\n",
       "      <th>6</th>\n",
       "      <td>7</td>\n",
       "      <td>7</td>\n",
       "      <td>2</td>\n",
       "      <td>9</td>\n",
       "      <td>6</td>\n",
       "      <td>0</td>\n",
       "      <td>5</td>\n",
       "      <td>9</td>\n",
       "      <td>6.000000</td>\n",
       "    </tr>\n",
       "    <tr>\n",
       "      <th>7</th>\n",
       "      <td>2</td>\n",
       "      <td>3</td>\n",
       "      <td>3</td>\n",
       "      <td>5</td>\n",
       "      <td>1</td>\n",
       "      <td>5</td>\n",
       "      <td>0</td>\n",
       "      <td>5</td>\n",
       "      <td>3.166667</td>\n",
       "    </tr>\n",
       "  </tbody>\n",
       "</table>\n",
       "</div>"
      ],
      "text/plain": [
       "   1  2  3  4  5  6  7  eccentricity  average_path\n",
       "1  0  1  5  3  3  7  2             7      3.500000\n",
       "2  1  0  5  2  4  7  3             7      3.666667\n",
       "3  5  5  0  7  4  2  3             7      4.333333\n",
       "4  3  2  7  0  6  9  5             9      5.333333\n",
       "5  3  4  4  6  0  6  1             6      4.000000\n",
       "6  7  7  2  9  6  0  5             9      6.000000\n",
       "7  2  3  3  5  1  5  0             5      3.166667"
      ]
     },
     "execution_count": 33,
     "metadata": {},
     "output_type": "execute_result"
    }
   ],
   "source": [
    "# Sum axis=0 only works if you know there are NO loops. Otherwise manually loop through it \n",
    "# and skip vertices where vertex i is vertex i\n",
    "df['average_path'] = df[[1, 2, 3, 4, 5, 6, 7]].sum(axis=0) / (7 - 1)\n",
    "df"
   ]
  },
  {
   "cell_type": "markdown",
   "id": "36bd175f",
   "metadata": {},
   "source": [
    "<span id=\"avg_path\"></span>\n",
    "\n",
    "#### Average path length"
   ]
  },
  {
   "cell_type": "code",
   "execution_count": 37,
   "id": "a0c6c139",
   "metadata": {},
   "outputs": [
    {
     "name": "stdout",
     "output_type": "stream",
     "text": [
      "Average path length, globally: 4.285714285714286\n"
     ]
    }
   ],
   "source": [
    "average_path_length = df['average_path'].sum() / 7\n",
    "print(\"Average path length, globally: {}\".format(average_path_length))"
   ]
  },
  {
   "cell_type": "code",
   "execution_count": 39,
   "id": "52296c30",
   "metadata": {},
   "outputs": [
    {
     "data": {
      "text/plain": [
       "4.285714285714286"
      ]
     },
     "execution_count": 39,
     "metadata": {},
     "output_type": "execute_result"
    }
   ],
   "source": [
    "# double check\n",
    "nx.average_shortest_path_length(G, weight=\"weight\")"
   ]
  },
  {
   "cell_type": "markdown",
   "id": "875e883c",
   "metadata": {},
   "source": [
    "<span id=\"char_path\"></span>\n",
    "\n",
    "#### Characteristic path length"
   ]
  },
  {
   "cell_type": "code",
   "execution_count": 42,
   "id": "8f27d743",
   "metadata": {},
   "outputs": [
    {
     "data": {
      "text/plain": [
       "4.0"
      ]
     },
     "execution_count": 42,
     "metadata": {},
     "output_type": "execute_result"
    }
   ],
   "source": [
    "np.median(df['average_path'].tolist())"
   ]
  },
  {
   "cell_type": "code",
   "execution_count": null,
   "id": "4e7a3cb7",
   "metadata": {},
   "outputs": [],
   "source": []
  }
 ],
 "metadata": {
  "kernelspec": {
   "display_name": "Python 3 (ipykernel)",
   "language": "python",
   "name": "python3"
  },
  "language_info": {
   "codemirror_mode": {
    "name": "ipython",
    "version": 3
   },
   "file_extension": ".py",
   "mimetype": "text/x-python",
   "name": "python",
   "nbconvert_exporter": "python",
   "pygments_lexer": "ipython3",
   "version": "3.9.7"
  }
 },
 "nbformat": 4,
 "nbformat_minor": 5
}
