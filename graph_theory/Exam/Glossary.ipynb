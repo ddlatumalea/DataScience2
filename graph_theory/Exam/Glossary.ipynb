{
 "cells": [
  {
   "cell_type": "markdown",
   "id": "559856fa",
   "metadata": {},
   "source": [
    "**Vertex**: an element of a graph, written as $V$.\n",
    "\n",
    "**Edge**: an element that joins it's *end points* $u, v \\in V$, written as $e = ⟨u, v〉$\n",
    "\n",
    "**Graph**: $G=(V, E)$.\n",
    "\n",
    "**Simple graph**: a graph without loops or multiple edges.\n",
    "\n",
    "**Empty graph**: a graph without edges.\n",
    "\n",
    "**Complete graph**: a graph with $n$ vertices, with each vertex being adjacent to every other vertex. Written as $K_n$.\n",
    "\n",
    "**Complement of a graph**: the graph obtained from $G$ by removing all its edges and joining those vertices that were not adjacent in $G$. Written as $\\bar G$. Adding $G$ and $\\bar G$ will create a *complete graph*.\n",
    "\n",
    "**Neighbour set**: the set of vertices (other than $v$) adjacent to $v$, that is $N(v) = \\{ w \\in V(G) | v \\neq w, ∃ e \\in E(G) : e =  ⟨u, v〉 \\}$\n",
    "\n",
    "**Degree** the number of edges incident wiith a vertex, $\\delta(v)$. Loops are counted twice. $\\Sigma_{v \\in V(G)} \\delta(v) = 2 \\cdot |E(G)|$\n",
    "\n",
    "**Degree sequence**: a list containing degrees. Should be ordered.\n",
    "\n",
    "**Graphic**: a degree sequence is graphic if a given list corresponds to the degree sequence of an actual simple graph. \n",
    "\n",
    "**Havel-Hakimi**: an algorithm to create a simple graph based on a degree sequence, *nx.havel_hakimi_graph*.\n",
    "\n",
    "**Subgraph**: a graph $H$ is a subgraph of $G$ if $V(H) ⊆ V(G)$ and $E(H) ⊆ E(G)$ such that for all $e \\in E(H)$ with $e = ⟨u, v〉$, we have that $u, v \\in V(H)$. Written as $H ⊆ G$. The notation $v: G[V(G)\\}v\\}] $ or $G - v$ means, remove a vertex $v$.\n",
    "\n",
    "**Induced subgraph**: A subgraph incuced by $V^*$ has a vertex set $V^*$ and edge set $E^* = \\{e \\in E(G) | e =   ⟨u, v〉$ with $ u,v \\in V^*\\}$. A subgraph induced by $E^*$ has edge set $E^*$ and a vertex set $V^* = \\{u, v \\in V(G) |  ∃ e \\in E^* : e = ⟨u, v〉 \\}$\n",
    "\n",
    "**Line graph**: denoted as $L(G)$. Constructed from $G$ by representing each edge $e = ⟨u, v〉$ from $E$ by a vertex $v_e$ in $L(G)$, and joining two vertices $v_e$ and $v_{e*}$ if and only if edges $e$ and $e^*$ are incident with the same vertex in $G$.\n",
    "\n",
    "**Adjacency matrix**: a symmetric matrix that reflects the fact that an edge is represented as an unordered pair of vertices.\n",
    "\n",
    "**Incidence matrix**: a $n$x$m$ matrix containg vertices and the edges incident."
   ]
  },
  {
   "cell_type": "raw",
   "id": "8a819210",
   "metadata": {},
   "source": []
  }
 ],
 "metadata": {
  "kernelspec": {
   "display_name": "Python 3 (ipykernel)",
   "language": "python",
   "name": "python3"
  },
  "language_info": {
   "codemirror_mode": {
    "name": "ipython",
    "version": 3
   },
   "file_extension": ".py",
   "mimetype": "text/x-python",
   "name": "python",
   "nbconvert_exporter": "python",
   "pygments_lexer": "ipython3",
   "version": "3.9.7"
  }
 },
 "nbformat": 4,
 "nbformat_minor": 5
}
