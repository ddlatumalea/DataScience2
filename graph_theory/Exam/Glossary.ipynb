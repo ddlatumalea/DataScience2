{
 "cells": [
  {
   "cell_type": "markdown",
   "id": "de7341b5",
   "metadata": {},
   "source": [
    "# Foundations\n",
    "## Data structures and formalities \n",
    "\n",
    "**Vertex**: an element of a graph, written as $V$.\n",
    "\n",
    "**Edge**: an element that joins it's *end points* $u, v \\in V$, written as $e = ⟨u, v〉$\n",
    "\n",
    "**Graph**: $G=(V, E)$.\n",
    "\n",
    "**Simple graph**: a graph without loops or multiple edges.\n",
    "\n",
    "**Empty graph**: a graph without edges.\n",
    "\n",
    "**Complete graph**: a graph with $n$ vertices, with each vertex being adjacent to every other vertex. Written as $K_n$.\n",
    "\n",
    "**Complement of a graph**: the graph obtained from $G$ by removing all its edges and joining those vertices that were not adjacent in $G$. Written as $\\bar G$. Adding $G$ and $\\bar G$ will create a *complete graph*.\n",
    "\n",
    "**Neighbour set**: the set of vertices (other than $v$) adjacent to $v$, that is $N(v) = \\{ w \\in V(G) | v \\neq w, ∃ e \\in E(G) : e =  ⟨u, v〉 \\}$\n",
    "\n",
    "**Degree** the number of edges incident wiith a vertex, $\\delta(v)$. Loops are counted twice. $\\Sigma_{v \\in V(G)} \\delta(v) = 2 \\cdot |E(G)|$\n",
    "\n",
    "**Degree sequence**: a list containing degrees. Should be ordered.\n",
    "\n",
    "**Graphic**: a degree sequence is graphic if a given list corresponds to the degree sequence of an actual simple graph. \n",
    "\n",
    "**Havel-Hakimi**: an algorithm to create a simple graph based on a degree sequence, *nx.havel_hakimi_graph*.\n",
    "\n",
    "**Subgraph**: a graph $H$ is a subgraph of $G$ if $V(H) ⊆ V(G)$ and $E(H) ⊆ E(G)$ such that for all $e \\in E(H)$ with $e = ⟨u, v〉$, we have that $u, v \\in V(H)$. Written as $H ⊆ G$. The notation $v: G[V(G)\\}v\\}] $ or $G - v$ means, remove a vertex $v$.\n",
    "\n",
    "**Induced subgraph**: A subgraph incuced by $V^*$ has a vertex set $V^*$ and edge set $E^* = \\{e \\in E(G) | e =   ⟨u, v〉$ with $ u,v \\in V^*\\}$. A subgraph induced by $E^*$ has edge set $E^*$ and a vertex set $V^* = \\{u, v \\in V(G) |  ∃ e \\in E^* : e = ⟨u, v〉 \\}$\n",
    "\n",
    "**Line graph**: denoted as $L(G)$. Constructed from $G$ by representing each edge $e = ⟨u, v〉$ from $E$ by a vertex $v_e$ in $L(G)$, and joining two vertices $v_e$ and $v_{e*}$ if and only if edges $e$ and $e^*$ are incident with the same vertex in $G$.\n",
    "\n",
    "**Adjacency matrix**: a symmetric matrix that reflects the fact that an edge is represented as an unordered pair of vertices.\n",
    "\n",
    "**Incidence matrix**: a $n$x$m$ matrix containg vertices and the edges incident."
   ]
  },
  {
   "cell_type": "markdown",
   "id": "a7a9ebac",
   "metadata": {},
   "source": [
    "## Isomorphism\n",
    "**Isomorphic**: two graphs $G$ and $G^*$ are isomorphic if there exists a one-to-one mapping $\\phi : V -> V^*$ such that for every edge $e \\in E$ with $e = ⟨𝑢,𝑣⟩$, there is a unique edge $e^* \\in E^*$ with $e^* =⟨\\phi(𝑢),\\phi(𝑣)⟩$. If two graphs are isomorphic, then their respective ordered degree sequences should be the same."
   ]
  },
  {
   "cell_type": "markdown",
   "id": "c8779328",
   "metadata": {},
   "source": [
    "## Connectivity (undirected graph)\n",
    "**$(v_0, v_k)$-walk**: an alternating sequence of vertices and edges $[v_0, e_1, v_1, e_2, ..., v_{k-1}, e_k, v_k]$.\n",
    "\n",
    "**Closed walk**: a walk where $v_0 = v_k$.\n",
    "\n",
    "**Trail**: a walk in which all edges are distinct.\n",
    "\n",
    "**Path**: a trial in which also all vertices are distinct.\n",
    "\n",
    "**Cycle**: a closed trail in which all vertices except $v_0$ and $v_k$ are distinct.\n",
    "\n",
    "**Connected**: two distinct vertices are connected if there exists a $(u, v)$ - path in $G$. $G$ is connected if all pairs of distinct vertices are connected.\n",
    "\n",
    "**Component**: a subgraph $H$ of $G$ is a component of $G$ if $H$ is connected and not contained in a connected subgraph of $G$ with more vertices or edges. The number of components of $G$ is denoted as $\\omega(G)$\n",
    "\n",
    "**Robustness**: how well the netwwork stays connected when we remove vertices or edges.\n",
    "\n",
    "**Cut**: for a graph $G$ let $V^* \\subset V(G)$ and $E^* \\subset E(G)$. $V^*$ is a *vertex cut* if $\\omega(G-V^*) > \\omega(G)$. If $V^*$ consists of a single vertex $v$, then $v$ is called a *cut vertex*. If $\\omega(G - E^*) > \\omega(G)$ then $E^*$ is calle dan *edge cut*. If $E^*$ consists of only a single edge $e$, then $e$ is known as a *cut edge*.\n",
    "\n",
    "**Vertex independent**: two paths are independent if they share nly the vertices $u$ and $v$.\n",
    "\n",
    "**Edge independent**: two paths are independent if they have no edge in common.\n",
    "\n",
    "**Harary graph $H_{k, n}$**: a k-connected simple graph with $n$ vertices and with a minimal number of edges. It has $ceil(k \\cdot n/2)$ edges, that is, the samllest natural number of edges greater or equal to $k \\cdot n/2$."
   ]
  },
  {
   "cell_type": "markdown",
   "id": "57fabb60",
   "metadata": {},
   "source": [
    "## Drawing graphs\n",
    "\n",
    "**Peterson graph**: a particular 3-regular graph.\n",
    "\n",
    "**Graph embeddings**: a representation of a graph on a surface where vertices are associated with points on that surface, mostly drawn on a 2-d plane.\n",
    "\n",
    "**Circular embedding**: vertices ar eplaced at evenly spaced points on a circle.\n",
    "\n",
    "**Random graphs**: pairs of vertices are connected by randomly chosen edges.\n",
    "\n",
    "**Bipartite graphs**: graphs of which the set of vertices can be partitioned into two subsets, such that no edge is incident to vertices from the same subset. Partition into two disjoint subsets $V_1$ and $V_2$ such that each edge $e \\in E(G)$ has one end point in $V_1$ and the other in $V_2$: $E(G) ⊆ \\{𝑒=⟨𝑢_1,u_2⟩| u_1 \\in V_1, u_2 \\in V_2\\}$.\n",
    "\n",
    "**Ranked embeddings**: hierarchical embedding.\n",
    "\n",
    "**Spring embeddings**: vertices are modeled as rings connect by springs. Spreads vertices far apart while still keeping connected ones close to each other. The algorithm finds an equilibrium. For the algorithm, see the book.\n",
    "\n",
    "**Planar/plane graph**: an embedding of a graph $G$ such that no two edges intersect. If it exists, $G$ is said to be *planar*.\n",
    "\n",
    "**Exterior region**: a region that is not enclosed by a cycle.\n",
    "\n",
    "**Interior region**: a region that is enclosed by a cycle.\n",
    "\n",
    "**Euler's formulate for a plane graph**: a graph $G$ with $n$ vertices, $m$ edges, and $r$ regions, we have that $n-m+r=2$.\n",
    "\n",
    "**Acyclic graph**: a graph containing no cycles, also known as a tree.\n",
    "\n",
    "**Tree**: a simple, connected graph having no cycles.\n",
    "\n",
    "**Forest**: a simple graph having only trees as its components.\n",
    "\n"
   ]
  },
  {
   "cell_type": "markdown",
   "id": "ecfa1b4a",
   "metadata": {},
   "source": [
    "# Extensions"
   ]
  },
  {
   "cell_type": "markdown",
   "id": "dc17e4e6",
   "metadata": {},
   "source": [
    "## General\n",
    "\n",
    "**Directed graph / digraph**: a digraph $D$ consists of a collection vertices $V$, and a collection of arcs $A$, for which $D=(V, A)$. Each arc $a = ⟨\\vec{𝑢,𝑣}⟩$ is said to oin vertex $u \\in V$ to another vertex $v$. Vertex $u$ is the *tail* of $a$, whereas $v$ is its *head*. A digraph is *strict* if it has no loops and no two arcs with the same end points have the same orientation.\n",
    "\n",
    "**Underlying graph** $G(D)$ of a digraph $D$ is obtained by replacing each arc $a$ with its undirected counterpart.\n",
    "\n",
    "**In-neighbour set**: $N_{in}(v) = \\{w \\in V(D) | v \\neq w, ∃a = ⟨\\vec{w,𝑣}⟩ : a \\in A(D)\\}$\n",
    "\n",
    "**Out-neighbour set**: $N_{in}(v) = \\{w \\in V(D) | v \\neq w, ∃a = ⟨\\vec{v,w}⟩ : a \\in A(D)\\}$\n",
    "\n",
    "**Set of neighbours**: Given a digraph $D$, $N(v) = N_{in}(v) \\cup N_{out}(v)$.\n",
    "\n",
    "**outdegree**: number of arcs having $v$ as their tail, $\\delta_{in}(v)$.\n",
    "\n",
    "**in degree**: number of arcs having $v$ as their head, $\\delta_{out}(v)$.\n",
    "\n",
    "**Vertex degree distribution**: shows how many vertices have a certain degree $\\delta$."
   ]
  },
  {
   "cell_type": "markdown",
   "id": "18e029ef",
   "metadata": {},
   "source": [
    "## Connectivity (directed graph)\n",
    "**Directed $(v_0, v_k)$-walk**: an alternating sequence $[v_0, a_0, v_1, a_1, ..., v_{k-1}, a_{k-1}, v_k]$ of vertices and arcs from D with $a = ⟨\\vec{v_i,𝑣_{i+1}}⟩$\n",
    "\n",
    "**Directed trail**: a directed walk in which all arcs are distinct.\n",
    "\n",
    "**Directed path**: a directed trail in which all vertices are also distinct.\n",
    "\n",
    "**Directed cycle**: a directe trail in which all vertices are distinct except for $v_0$ and $v_k$.\n",
    "\n",
    "**Strongly connected**: a digraph $D$ is strongly connected if there exists a directed path between every pair fo distinct vertices from $D$.\n",
    "\n",
    "**Weakly connected**: a digraph is weakly connected if its underlying graph is connected.\n",
    "\n",
    "\n",
    "**Directed acyclic graph (DAG)**: important type of weakly connected digraph. It is directed graph without any directed cycle. \n",
    "\n",
    "**Reachability analysis**: a vertex $v$ in a digraph $D$ is said to be reachable from vertex $u$, if there exists a directed $(u, v)$-path in $D$. Algorithm is shown in the book. This is an example of a breadth-first algorithm.\n",
    "\n",
    "**Breadth-first algorithm**: at each step each newly added vertex is examined.\n",
    "\n",
    "\n",
    "\n"
   ]
  },
  {
   "cell_type": "markdown",
   "id": "0e4398f7",
   "metadata": {},
   "source": [
    "## Weighted graphs\n",
    "\n",
    "**Weighted graph**: a graph $G$ for which each edge $e$ has an associated real-valued number $w(e)$ called its weight. For any subgraph $H ⊆ G$, the weight of $H$ is the sum of weights of its edges: $w(H) = \\Sigma_{e \\in E(H)} w(e)$.\n",
    "\n",
    "**(Geodesic) distance**: the weight between a $(u,v)$-path is known as the (geodesic distance $d(u, v)$ between $u$ and $v$. \n",
    "\n",
    "**Shortest path**: let $P$ be a $(u, v)$-path having minimal weight among all $(u, v)$-paths in $G$. Path $P$ is called a shortest path or a geodesic between $u$ and $v$.\n",
    "\n",
    "**Dijkstra**: an algorithm to find the shortest path between a pair of nodes. Algorithm can be found in the notebook. It creates a tree $T(u)$ that is said to be rooted at $u$, thus only $(u, v)$-paths are of interest."
   ]
  },
  {
   "cell_type": "markdown",
   "id": "3957327d",
   "metadata": {},
   "source": [
    "## Colorings\n",
    "\n",
    "-----\n",
    "\n",
    "Some colouring examples can be found in the notebooks!\n",
    "\n",
    "------\n",
    "\n",
    "**Vertex colorings**: labeling of vertices.\n",
    "\n",
    "**Edge colorings**: labeling of edges. A graph $G$ is *k-edge colorable* if there exists a partitioning of $E(G)$ into $k$ disjoint sets $E_1, ..., E_k$ such that no two edges from the same $E_i$ are incident with the same vertex.\n",
    "\n",
    "**Edge coloring problem**: finding the minimal $k$ for which graph $G$ is $k$-edge colorable.\n",
    "\n",
    "**Edge chromatic number**: the minimal $k$ for a graph $G$, denoted by $\\chi^{'}$. If $\\Delta(G)$ is the maximal degree, it can be seen that $\\chi^{'} \\geq \\Delta(G)$. In general, for any simple graph $G$, $\\chi^{'}(G) = \\Delta(G)$ or $\\chi^{'}(G) = \\Delta(G)+1$.\n",
    "\n",
    "**Vertex coloring problem**: find a coloring of the vertices of a graph such that no two adjacent vertices have the same color.\n",
    "\n",
    "**K-vertex colorable** if there exists a partitioning of $V(G)$ into $k$ disjoint sets $V_1, ..., V_k$ such that no two vertices from the same $V_i$ are adjacent.\n",
    "\n",
    "**Chromatic number**: minimal $k$, denoted as $\\chi(G)$, the maximal degree is $\\chi(G) \\leq \\Delta(G) + 1$. "
   ]
  },
  {
   "cell_type": "markdown",
   "id": "ee8f5b8f",
   "metadata": {},
   "source": [
    "# Network traversal\n",
    "\n"
   ]
  },
  {
   "cell_type": "code",
   "execution_count": null,
   "id": "102a46f5",
   "metadata": {},
   "outputs": [],
   "source": []
  }
 ],
 "metadata": {
  "kernelspec": {
   "display_name": "Python 3 (ipykernel)",
   "language": "python",
   "name": "python3"
  },
  "language_info": {
   "codemirror_mode": {
    "name": "ipython",
    "version": 3
   },
   "file_extension": ".py",
   "mimetype": "text/x-python",
   "name": "python",
   "nbconvert_exporter": "python",
   "pygments_lexer": "ipython3",
   "version": "3.9.7"
  }
 },
 "nbformat": 4,
 "nbformat_minor": 5
}
