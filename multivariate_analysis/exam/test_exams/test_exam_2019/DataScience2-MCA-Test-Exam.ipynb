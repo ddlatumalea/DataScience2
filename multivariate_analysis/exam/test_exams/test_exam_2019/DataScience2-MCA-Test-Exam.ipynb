{
 "cells": [
  {
   "cell_type": "markdown",
   "metadata": {},
   "source": [
    "## Assignment 1: Principal Component Analysis\n",
    "\n",
    "a. Read the data in from the file `alpha-helix-starts-4-5.dat` and remove rows that contain NA values (`dropna`). The delimiter is a space (delimiter=' ') and there is no header (header=None), but that is stuff assumed known. It may be a good idea to remove columns with only zeroes."
   ]
  },
  {
   "cell_type": "code",
   "execution_count": 1,
   "metadata": {},
   "outputs": [],
   "source": [
    "import pandas as pd"
   ]
  },
  {
   "cell_type": "code",
   "execution_count": 6,
   "metadata": {},
   "outputs": [],
   "source": [
    "df = pd.read_csv('data/alpha-helix-starts-4-5.dat', delimiter=' ', header=None)"
   ]
  },
  {
   "cell_type": "code",
   "execution_count": 7,
   "metadata": {},
   "outputs": [],
   "source": [
    "df = df.dropna(axis=0)\n",
    "df = df.loc[:, (df != 0).any(axis=0)]"
   ]
  },
  {
   "cell_type": "code",
   "execution_count": 8,
   "metadata": {},
   "outputs": [
    {
     "data": {
      "text/html": [
       "<div>\n",
       "<style scoped>\n",
       "    .dataframe tbody tr th:only-of-type {\n",
       "        vertical-align: middle;\n",
       "    }\n",
       "\n",
       "    .dataframe tbody tr th {\n",
       "        vertical-align: top;\n",
       "    }\n",
       "\n",
       "    .dataframe thead th {\n",
       "        text-align: right;\n",
       "    }\n",
       "</style>\n",
       "<table border=\"1\" class=\"dataframe\">\n",
       "  <thead>\n",
       "    <tr style=\"text-align: right;\">\n",
       "      <th></th>\n",
       "      <th>0</th>\n",
       "      <th>1</th>\n",
       "      <th>2</th>\n",
       "      <th>3</th>\n",
       "      <th>4</th>\n",
       "      <th>5</th>\n",
       "      <th>6</th>\n",
       "      <th>7</th>\n",
       "      <th>8</th>\n",
       "      <th>9</th>\n",
       "      <th>...</th>\n",
       "      <th>15</th>\n",
       "      <th>16</th>\n",
       "      <th>17</th>\n",
       "      <th>18</th>\n",
       "      <th>22</th>\n",
       "      <th>25</th>\n",
       "      <th>26</th>\n",
       "      <th>28</th>\n",
       "      <th>29</th>\n",
       "      <th>30</th>\n",
       "    </tr>\n",
       "  </thead>\n",
       "  <tbody>\n",
       "    <tr>\n",
       "      <th>0</th>\n",
       "      <td>2ng1</td>\n",
       "      <td>1</td>\n",
       "      <td>1</td>\n",
       "      <td>EEE~~HHHH</td>\n",
       "      <td>7.57</td>\n",
       "      <td>11.40</td>\n",
       "      <td>5.71</td>\n",
       "      <td>4.63</td>\n",
       "      <td>9.11</td>\n",
       "      <td>6.50</td>\n",
       "      <td>...</td>\n",
       "      <td>3.96</td>\n",
       "      <td>-0.09</td>\n",
       "      <td>2.37</td>\n",
       "      <td>3.01</td>\n",
       "      <td>-3.80</td>\n",
       "      <td>-3.92</td>\n",
       "      <td>3.78</td>\n",
       "      <td>-1.38</td>\n",
       "      <td>4.12</td>\n",
       "      <td>-2.76</td>\n",
       "    </tr>\n",
       "    <tr>\n",
       "      <th>1</th>\n",
       "      <td>2ng1</td>\n",
       "      <td>1</td>\n",
       "      <td>2</td>\n",
       "      <td>G~SS~HHHH</td>\n",
       "      <td>-3.42</td>\n",
       "      <td>2.00</td>\n",
       "      <td>12.34</td>\n",
       "      <td>-1.94</td>\n",
       "      <td>1.85</td>\n",
       "      <td>8.84</td>\n",
       "      <td>...</td>\n",
       "      <td>5.51</td>\n",
       "      <td>0.16</td>\n",
       "      <td>1.82</td>\n",
       "      <td>3.34</td>\n",
       "      <td>-3.80</td>\n",
       "      <td>-4.25</td>\n",
       "      <td>3.75</td>\n",
       "      <td>-1.44</td>\n",
       "      <td>4.21</td>\n",
       "      <td>-2.43</td>\n",
       "    </tr>\n",
       "    <tr>\n",
       "      <th>2</th>\n",
       "      <td>2ng1</td>\n",
       "      <td>1</td>\n",
       "      <td>3</td>\n",
       "      <td>GGGTTHHHH</td>\n",
       "      <td>2.62</td>\n",
       "      <td>-2.14</td>\n",
       "      <td>9.38</td>\n",
       "      <td>3.95</td>\n",
       "      <td>-1.09</td>\n",
       "      <td>5.98</td>\n",
       "      <td>...</td>\n",
       "      <td>5.41</td>\n",
       "      <td>-0.21</td>\n",
       "      <td>2.19</td>\n",
       "      <td>3.08</td>\n",
       "      <td>-3.80</td>\n",
       "      <td>-3.88</td>\n",
       "      <td>3.81</td>\n",
       "      <td>-2.54</td>\n",
       "      <td>4.27</td>\n",
       "      <td>-3.54</td>\n",
       "    </tr>\n",
       "    <tr>\n",
       "      <th>3</th>\n",
       "      <td>2ng1</td>\n",
       "      <td>1</td>\n",
       "      <td>4</td>\n",
       "      <td>~SS~~HHHH</td>\n",
       "      <td>-0.22</td>\n",
       "      <td>9.06</td>\n",
       "      <td>6.19</td>\n",
       "      <td>2.88</td>\n",
       "      <td>8.88</td>\n",
       "      <td>8.41</td>\n",
       "      <td>...</td>\n",
       "      <td>2.68</td>\n",
       "      <td>0.21</td>\n",
       "      <td>2.67</td>\n",
       "      <td>2.79</td>\n",
       "      <td>-3.81</td>\n",
       "      <td>-3.94</td>\n",
       "      <td>3.80</td>\n",
       "      <td>-1.36</td>\n",
       "      <td>3.79</td>\n",
       "      <td>-2.80</td>\n",
       "    </tr>\n",
       "    <tr>\n",
       "      <th>4</th>\n",
       "      <td>2ng1</td>\n",
       "      <td>1</td>\n",
       "      <td>5</td>\n",
       "      <td>~TT~~HHHH</td>\n",
       "      <td>3.19</td>\n",
       "      <td>9.94</td>\n",
       "      <td>0.90</td>\n",
       "      <td>5.52</td>\n",
       "      <td>9.40</td>\n",
       "      <td>3.82</td>\n",
       "      <td>...</td>\n",
       "      <td>3.00</td>\n",
       "      <td>0.06</td>\n",
       "      <td>2.25</td>\n",
       "      <td>3.09</td>\n",
       "      <td>-3.81</td>\n",
       "      <td>-3.70</td>\n",
       "      <td>3.79</td>\n",
       "      <td>-1.13</td>\n",
       "      <td>3.80</td>\n",
       "      <td>-2.76</td>\n",
       "    </tr>\n",
       "  </tbody>\n",
       "</table>\n",
       "<p>5 rows × 25 columns</p>\n",
       "</div>"
      ],
      "text/plain": [
       "     0   1   2          3     4      5      6     7     8     9   ...    15  \\\n",
       "0  2ng1   1   1  EEE~~HHHH  7.57  11.40   5.71  4.63  9.11  6.50  ...  3.96   \n",
       "1  2ng1   1   2  G~SS~HHHH -3.42   2.00  12.34 -1.94  1.85  8.84  ...  5.51   \n",
       "2  2ng1   1   3  GGGTTHHHH  2.62  -2.14   9.38  3.95 -1.09  5.98  ...  5.41   \n",
       "3  2ng1   1   4  ~SS~~HHHH -0.22   9.06   6.19  2.88  8.88  8.41  ...  2.68   \n",
       "4  2ng1   1   5  ~TT~~HHHH  3.19   9.94   0.90  5.52  9.40  3.82  ...  3.00   \n",
       "\n",
       "     16    17    18    22    25    26    28    29    30  \n",
       "0 -0.09  2.37  3.01 -3.80 -3.92  3.78 -1.38  4.12 -2.76  \n",
       "1  0.16  1.82  3.34 -3.80 -4.25  3.75 -1.44  4.21 -2.43  \n",
       "2 -0.21  2.19  3.08 -3.80 -3.88  3.81 -2.54  4.27 -3.54  \n",
       "3  0.21  2.67  2.79 -3.81 -3.94  3.80 -1.36  3.79 -2.80  \n",
       "4  0.06  2.25  3.09 -3.81 -3.70  3.79 -1.13  3.80 -2.76  \n",
       "\n",
       "[5 rows x 25 columns]"
      ]
     },
     "execution_count": 8,
     "metadata": {},
     "output_type": "execute_result"
    }
   ],
   "source": [
    "df.head()"
   ]
  },
  {
   "cell_type": "markdown",
   "metadata": {},
   "source": [
    "The data file contains Cartesian X/Y/Z positions of carbon atoms that mark the beginning of alpha-helices, with five atoms before the helix and four atoms in it. The four atoms of the helix were used to align the structures, so they are all positioned in a consistent way. The structure ID from which the helix was extracted is in the first column, the second and third columns give chain ID and helix ID, respectively, and the fourth column shows a classification of the structure per amino acid.\n",
    "\n",
    "b. Explain why it is or is not necessary to normalize the data for principal component analysis. "
   ]
  },
  {
   "cell_type": "markdown",
   "metadata": {},
   "source": [
    "-----\n",
    "\n",
    "As the data contains Catesian X/Y/Z positions, it is the same unit. Therefore it is not necessary to normalize the data. They are aligned and consistent.\n",
    "\n",
    "-----"
   ]
  },
  {
   "cell_type": "markdown",
   "metadata": {},
   "source": [
    "c. Perform principal component analysis"
   ]
  },
  {
   "cell_type": "code",
   "execution_count": 21,
   "metadata": {},
   "outputs": [],
   "source": [
    "values = df.loc[:, 4:]"
   ]
  },
  {
   "cell_type": "markdown",
   "metadata": {},
   "source": [
    "d. Plot the eigenvalues and discuss what the graph shows (and what that means)."
   ]
  },
  {
   "cell_type": "code",
   "execution_count": null,
   "metadata": {},
   "outputs": [],
   "source": []
  },
  {
   "cell_type": "markdown",
   "metadata": {},
   "source": []
  },
  {
   "cell_type": "markdown",
   "metadata": {},
   "source": [
    "e. Project the data onto the eigenvalues and make plots of the projections."
   ]
  },
  {
   "cell_type": "code",
   "execution_count": null,
   "metadata": {},
   "outputs": [],
   "source": []
  },
  {
   "cell_type": "markdown",
   "metadata": {},
   "source": [
    "f. Create a biplot by adding lines/arrows (you can use numbers to label the original variables)"
   ]
  },
  {
   "cell_type": "code",
   "execution_count": null,
   "metadata": {},
   "outputs": [],
   "source": []
  },
  {
   "cell_type": "markdown",
   "metadata": {},
   "source": [
    "g. Discuss what the plots from e/f show"
   ]
  },
  {
   "cell_type": "markdown",
   "metadata": {},
   "source": []
  },
  {
   "cell_type": "markdown",
   "metadata": {},
   "source": [
    "h. Explain what a principal component is in this context"
   ]
  },
  {
   "cell_type": "markdown",
   "metadata": {},
   "source": []
  },
  {
   "cell_type": "markdown",
   "metadata": {},
   "source": [
    "## Assignment 2: MultiDimensional Scaling (Principal Coordinate Analysis).\n",
    "\n",
    "Use the data from the same data file (`alpha-helix-starts-4-5.dat`).\n",
    "\n",
    "a. Make a selection of every 250th line from the full data table and construct a distance matrix (squared!) for this selection (If you don't know how, 1. these are Cartesian X/Y/Z, so the distance between two observations a and b is just sum((a - b)\\*\\*2, and 2. the matrix operations needed can be figured out by writing the equations in matrix form ... or you can use scipy functions)."
   ]
  },
  {
   "cell_type": "code",
   "execution_count": null,
   "metadata": {},
   "outputs": [],
   "source": []
  },
  {
   "cell_type": "markdown",
   "metadata": {},
   "source": [
    "b. Perform MDS/PCoA on the distance matrix"
   ]
  },
  {
   "cell_type": "code",
   "execution_count": null,
   "metadata": {},
   "outputs": [],
   "source": []
  },
  {
   "cell_type": "markdown",
   "metadata": {},
   "source": [
    "c. Plot the eigenvalues and discuss what the graph shows (and what that means)."
   ]
  },
  {
   "cell_type": "code",
   "execution_count": null,
   "metadata": {},
   "outputs": [],
   "source": []
  },
  {
   "cell_type": "markdown",
   "metadata": {},
   "source": []
  },
  {
   "cell_type": "markdown",
   "metadata": {},
   "source": [
    "d. Plot the principal coordinates obtained."
   ]
  },
  {
   "cell_type": "code",
   "execution_count": null,
   "metadata": {},
   "outputs": [],
   "source": []
  },
  {
   "cell_type": "markdown",
   "metadata": {},
   "source": [
    "e. Give an interpretation of what these principal coordinates are and what the plot shows (compare it with the eigenvector-projection plot)."
   ]
  },
  {
   "cell_type": "markdown",
   "metadata": {},
   "source": []
  },
  {
   "cell_type": "markdown",
   "metadata": {},
   "source": [
    "## Assignment 3: Multivariate Linear Regression\n",
    "\n",
    "If the previous assignment wasn't (yet) successful, read in the principal coordinates that were derived before from the file `pcoa.dat`. This file contains the values corresponding to every 250th line from the file `alpha-helix-starts-4-5.dat`.\n",
    "\n",
    "a. Perform a multivariate linear regression of the principal coordinates (regressand) against the original sample data (regressor). (This gives a coefficient matrix B, such that Y = XB + E)"
   ]
  },
  {
   "cell_type": "code",
   "execution_count": null,
   "metadata": {},
   "outputs": [],
   "source": []
  },
  {
   "cell_type": "markdown",
   "metadata": {},
   "source": [
    "c. Plot the data from the model against the original data and reflect on the correspondence."
   ]
  },
  {
   "cell_type": "code",
   "execution_count": null,
   "metadata": {},
   "outputs": [],
   "source": []
  },
  {
   "cell_type": "markdown",
   "metadata": {},
   "source": []
  },
  {
   "cell_type": "markdown",
   "metadata": {},
   "source": [
    "d. Calculate estimated principal coordinates for _all_ data from `alpha-helix-starts-4-5.dat` (by projecting on the coefficient matrix) and plot the estimated coordinates. "
   ]
  },
  {
   "cell_type": "code",
   "execution_count": null,
   "metadata": {},
   "outputs": [],
   "source": []
  },
  {
   "cell_type": "markdown",
   "metadata": {},
   "source": [
    "e. Compare the plots with the ones from PCA and explain the similarities/differences."
   ]
  },
  {
   "cell_type": "markdown",
   "metadata": {},
   "source": []
  }
 ],
 "metadata": {
  "kernelspec": {
   "display_name": "Python 3 (ipykernel)",
   "language": "python",
   "name": "python3"
  },
  "language_info": {
   "codemirror_mode": {
    "name": "ipython",
    "version": 3
   },
   "file_extension": ".py",
   "mimetype": "text/x-python",
   "name": "python",
   "nbconvert_exporter": "python",
   "pygments_lexer": "ipython3",
   "version": "3.9.7"
  }
 },
 "nbformat": 4,
 "nbformat_minor": 4
}
