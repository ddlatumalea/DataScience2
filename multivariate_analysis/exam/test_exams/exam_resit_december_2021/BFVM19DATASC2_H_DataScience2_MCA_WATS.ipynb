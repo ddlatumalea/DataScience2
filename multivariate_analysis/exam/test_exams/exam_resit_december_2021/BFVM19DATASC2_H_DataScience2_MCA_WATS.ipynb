{
 "cells": [
  {
   "cell_type": "markdown",
   "metadata": {},
   "source": [
    "# Data Science 2 (modeling), BFVM19DATASC2 resit Dec 2, 2021\n",
    "\n",
    "## Multivariate Component Analysis computer-exam  \n",
    "\n",
    "### Tsjerk A. Wassenaar (WATS), *06-17031440*\n",
    "\n",
    "#### Instructions\n",
    "\n",
    "On your workstation desktop you will find all required files:\n",
    "\n",
    "* This exam `BFVM19DATASC2_H_DataScience2_MCA_WATS.ipynb`\n",
    "\n",
    "* Data files\n",
    "  - `dataFrame_all_sims.txt`\n",
    "  - `dataFrame_all_sims.csv`\n",
    "\n",
    "In addition, some supplementary reference materials are included:\n",
    "\n",
    "* Jupyter notebooks `*.ipynb` and `*.html`\n",
    "* Book chapters and cheat sheets `*.pdf`\n",
    "\n",
    "Provide your answers in the code cells corresponding to each of the questions below. For those questions that require a textual answer rather than python code, you may either type your answer in the cell using a python comment or insert a text-markdown cell with your typeset answer.\n",
    "\n",
    "All questions have the possible number of points to be scored indicated. Your grade will be calculated as follows:\n",
    "\n",
    "$$\n",
    "\\text{Grade} = 1 + 9 \\cdot \\frac {\\text{Points Scored}} {\\text{Maximum Score}}\n",
    "$$\n",
    "\n",
    "Instructions on how to submit your answers are provided at the bottom. All notes, textbooks and other written reference materials are permitted."
   ]
  },
  {
   "cell_type": "markdown",
   "metadata": {},
   "source": [
    "## Assignment 1: Factor Analysis\n",
    "\n",
    "The data file `dataFrame_all_sims.csv` contains measurements on lipids/membranes from simulations of membranes of different compositions to assess the influence of the composition and the effect of ethanol on membrane properties. The data consists of two parts: parameters (explanatory variables) and measured variables (membrane properties). These are described in the accompanying text file.\n",
    "\n",
    "**Assignment:**\n",
    "\n",
    "- Read the data in from the file `dataFrame_all_sims.csv`. Remove NA values if present (dropna).\n",
    "\n",
    "- Perform Factor Analysis. Determine and discuss what variables should be included in the analysis and which should be used for coloring/formatting the plot.\n",
    "\n",
    "- Interpret the plot and give an interpretation of the factors.\n",
    "\n",
    "**Assessment:**\n",
    "\n",
    "- Correct application of FA (12)\n",
    "\n",
    "- Proper graphical representations (12)\n",
    "\n",
    "- Assessment and interpretation of factors (12)\n",
    "\n",
    "- Interpretation of and reflection on results (12)"
   ]
  },
  {
   "cell_type": "code",
   "execution_count": null,
   "metadata": {},
   "outputs": [],
   "source": [
    "def varimax(components, gamma=1, maxiter=20, tol=1e-8):\n",
    "    \"\"\"Perform VariMax (gamma=1) or OrthoMax (gamma=0) rotation on components\"\"\"\n",
    "    p,k = components.shape\n",
    "    R   = np.eye(k)\n",
    "    f   = gamma / p\n",
    "    d   = 0\n",
    "    for i in range(maxiter):\n",
    "        d_old = d\n",
    "        L = np.dot(components, R)\n",
    "        A = L**3 - f * (L*(L**2).sum(axis=0))**2\n",
    "        U,s,V = np.linalg.svd(components.T @ A)\n",
    "        R = U @ V\n",
    "        d = sum(s)\n",
    "        if (d - d_old) ** 2 < tol: \n",
    "            break\n",
    "    return components @ R"
   ]
  },
  {
   "cell_type": "code",
   "execution_count": null,
   "metadata": {},
   "outputs": [],
   "source": []
  },
  {
   "cell_type": "markdown",
   "metadata": {
    "scrolled": false
   },
   "source": []
  },
  {
   "cell_type": "markdown",
   "metadata": {},
   "source": [
    "## Assignment 2: Multivariate Linear Regression.\n",
    "\n",
    "Use the data from the same data file (`dataFrame_all_sims.csv`).\n",
    "\n",
    "Assignment:\n",
    "\n",
    "- Perform multivariate linear regression to construct a model for predicting the area per lipid (APL) from the given parameters.\n",
    "\n",
    "- Plot the _estimated_ area per lipid against the _actual_ area per lipid. \n",
    "\n",
    "- Reflect on the quality of the regression model and the possibility to predict the APL from the coordinates using regression.\n",
    "\n",
    "Assessment:\n",
    "\n",
    "- Correct application of MLR (8)\n",
    "- Proper graphical representations (12)\n",
    "- Assessment and interpretation of regression (8)\n",
    "- Interpretation of and reflection on results (12)"
   ]
  },
  {
   "cell_type": "code",
   "execution_count": null,
   "metadata": {},
   "outputs": [],
   "source": []
  },
  {
   "cell_type": "markdown",
   "metadata": {},
   "source": []
  },
  {
   "cell_type": "markdown",
   "metadata": {},
   "source": [
    "## Assignment 3: Linear Discriminant Analysis\n",
    "\n",
    "Use the data from the same data file (`dataFrame_all_sims.csv`).\n",
    "\n",
    "Assignment:\n",
    "\n",
    "- Perform discriminant analysis to investigate the difference between membranes with cholesterol and with ergosterol.\n",
    "\n",
    "- Plot the projections of the data on the discriminant axis in a meaningful manner. \n",
    "\n",
    "- Reflect on the quality of the discriminant model and how well the two sterol types can be differentiated.\n",
    "\n",
    "Assessment:\n",
    "\n",
    "- Correct application of LDA (8)\n",
    "- Proper graphical representations (12)\n",
    "- Interpretation of and reflection on results (12)"
   ]
  },
  {
   "cell_type": "code",
   "execution_count": null,
   "metadata": {},
   "outputs": [],
   "source": []
  },
  {
   "cell_type": "markdown",
   "metadata": {},
   "source": []
  },
  {
   "cell_type": "markdown",
   "metadata": {},
   "source": [
    "***\n",
    "\n",
    "<div class=\"alert alert-warning\">\n",
    "<b>After finishing:</b>\n",
    "<ol><li>\n",
    "Rename your notebook with your name and student number, like `JohnDoe_123456`, using the menu option `File` > `Rename`.\n",
    "</li><li>\n",
    "Evaluate the notebook by means of the menu option `Kernel` > `Restart & Run All` and check that your notebook runs without errors.\n",
    "</li><li>\n",
    "Save the evaluated notebook using the menu option `File` > `Save and Checkpoint`.\n",
    "</li><li>\n",
    "Open a terminal, change to the desktop folder using `cd ~/Desktop`, and submit your work using a command like `submit_your_work 123456 JohnDoe_123456.ipynb` (enter `submit_your_work --help` to get help on submit script usage).\n",
    "</li><li>\n",
    "After getting clearance from the person monitoring the exam, you are free to leave.\n",
    "</li></ol>\n",
    "</div>\n",
    "\n",
    "#### Success!"
   ]
  }
 ],
 "metadata": {
  "kernelspec": {
   "display_name": "Python 3",
   "language": "python",
   "name": "python3"
  },
  "language_info": {
   "codemirror_mode": {
    "name": "ipython",
    "version": 3
   },
   "file_extension": ".py",
   "mimetype": "text/x-python",
   "name": "python",
   "nbconvert_exporter": "python",
   "pygments_lexer": "ipython3",
   "version": "3.9.6"
  }
 },
 "nbformat": 4,
 "nbformat_minor": 4
}
