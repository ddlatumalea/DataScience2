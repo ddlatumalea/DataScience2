{
 "cells": [
  {
   "cell_type": "markdown",
   "metadata": {},
   "source": [
    "# DS2 - Multivariate Analysis"
   ]
  },
  {
   "cell_type": "markdown",
   "metadata": {},
   "source": [
    "# Assignment 1: Factor Analysis (12 points)\n",
    "\n",
    "The file `nevo_online_2019_nutrientgehaltes.csv` (NEVO-online version 2019/6.0, RIVM, Bilthoven) contains nutrient compositions of a large number of consumer products collected in 2019. \n",
    "\n",
    "Perform Factor Analysis on the nutrient data (not the first twelve columns). Assume there are three main underlying factors (components). Draw biplots of components 1 and 2 and of components 2 and 3.\n",
    "\n",
    "Notes:\n",
    "\n",
    "* The variables named F#somenumber_* denote fatty acids, where the number indicates the chain length.\n",
    "* In the biplots, only draw lines/arrows for the 25 variables that are most associated with the selected eigenvectors, i.e. have the highest absolute values (loadings) on the components.\n",
    "\n",
    "\n",
    "Consider and discuss the following aspects:\n",
    "\n",
    "* Is it necessary to normalize the data?\n",
    "* How many eigenvectors are required to capture the most significant features of the data?\n",
    "* What is the interpretation of a principal/factor component in this context?\n"
   ]
  },
  {
   "cell_type": "code",
   "execution_count": null,
   "metadata": {},
   "outputs": [],
   "source": []
  },
  {
   "cell_type": "markdown",
   "metadata": {},
   "source": []
  },
  {
   "cell_type": "markdown",
   "metadata": {},
   "source": [
    "# Assignment 2: Multidimensional Scaling (8 points)\n",
    "\n",
    "The file `SARS-nCov2-distance-matrix.dat.gz` contains a distance matrix based on all pairwise alignment scores of the currently available DNA sequences of SARS-nCov2. Perform multidimensional scaling and make a plot of the principal coordinates. \n",
    "\n",
    "Consider and discuss the following aspects:\n",
    "\n",
    "* How many significant principal coordinates are there and what does that mean?\n",
    "* What does the plot show?\n",
    "* What is the relation with principal components and is it possible to do principal component analysis directly on alignment data?"
   ]
  },
  {
   "cell_type": "code",
   "execution_count": null,
   "metadata": {},
   "outputs": [],
   "source": []
  },
  {
   "cell_type": "markdown",
   "metadata": {},
   "source": []
  }
 ],
 "metadata": {
  "kernelspec": {
   "display_name": "Python 3",
   "language": "python",
   "name": "python3"
  },
  "language_info": {
   "codemirror_mode": {
    "name": "ipython",
    "version": 3
   },
   "file_extension": ".py",
   "mimetype": "text/x-python",
   "name": "python",
   "nbconvert_exporter": "python",
   "pygments_lexer": "ipython3",
   "version": "3.7.6"
  }
 },
 "nbformat": 4,
 "nbformat_minor": 2
}
