{
 "cells": [
  {
   "cell_type": "markdown",
   "metadata": {},
   "source": [
    "# Data Science 2 (modeling), BFVM19DATASC2\n",
    "\n",
    "## Multivariate Component Analysis computer-exam '20-'21 \n",
    "\n",
    "### Tsjerk A. Wassenaar (WATS) *06-17031440*\n",
    "\n",
    "#### Instructions\n",
    "\n",
    "On your workstation desktop you will find all required files:\n",
    "\n",
    "* This exam `BFVM19DATASC2_T_DataScience2_MCA_WATS.ipynb`\n",
    "\n",
    "* Data files\n",
    "  - `alpha-helix-starts-4-5.dat.gz`\n",
    "  - `alpha-helix-pcoa.dat`\n",
    "  - `AA.dat`\n",
    "\n",
    "In addition, some supplementary reference materials are included:\n",
    "\n",
    "* Jupyter notebooks `*.ipynb` and `*.html`\n",
    "* Book chapters and cheat sheets `*.pdf`\n",
    "\n",
    "Provide your answers in the code cells corresponding with each of the questions below. For those questions that require a textual answer rather than python code, you may either type your answer in the cell using a python comment or insert a text-markdown cell with your typeset answer.\n",
    "\n",
    "All questions have the possible number of points to be scored indicated. Your grade will be calculated as follows:\n",
    "\n",
    "$$\n",
    "\\text{Grade} = 1 + 9 \\cdot \\frac {\\text{Points Scored}} {\\text{Maximum Score}}\n",
    "$$\n",
    "\n",
    "Instructions on how to submit your answers are provided at the bottom. All notes, textbooks and other written reference materials are permitted."
   ]
  },
  {
   "cell_type": "markdown",
   "metadata": {},
   "source": [
    "## Assignment 1: Multidimensional Scaling (10 points)\n",
    "\n",
    "The data file `alpha-helix-starts-4-5.dat.gz` contains Cartesian X/Y/Z positions of carbon atoms that mark the beginning of alpha-helices, with five atoms before the helix and four atoms in it. The four atoms of the helix were used to align the structures, so they are all positioned in a consistent way. The structure ID from which the helix was extracted is in the first column, the second and third columns give chain ID and helix ID, respectively, and the fourth column shows a classification of the structure per amino acid.\n",
    "\n",
    "The classification is a string of characters denoting the secondary structure (the fold of the peptide). The dissimilarity between two strings can be determined using the Hamming distance. This is given as function below. \n",
    "\n",
    "**Assignment:**\n",
    "\n",
    "- Read the data in from the file `alpha-helix-starts-4-5.dat` and remove rows that contain NA values (`dropna`). \n",
    "\n",
    "- Use the function `hamming` to construct a distance matrix for the structure strings and perform MDS on this matrix. **NB: Make a selection of ±7500 of the strings, as it's impossible to make a distance matrix of all entries!**\n",
    "\n",
    "- Perform MDS on the distance matrix and plot the principal coordinates.\n",
    "\n",
    "- Interpret the plot and give an interpretation of the principal coordinates.\n",
    "\n",
    "**Assessment:**\n",
    "\n",
    "- Correct application of MDS\n",
    "\n",
    "- Proper graphical representations\n",
    "\n",
    "- Assessment and interpretation of principal coordinates\n",
    "\n",
    "- Interpretation of and reflection on results"
   ]
  },
  {
   "cell_type": "code",
   "execution_count": 1,
   "metadata": {},
   "outputs": [],
   "source": [
    "def hamming(a, b):\n",
    "    '''Determine the Hamming distance for two strings.'''\n",
    "    return sum(i!=j for i, j in zip(a,b))\n",
    "\n",
    "\n",
    "def color(s, classification='H'):\n",
    "    '''\n",
    "    Return a color vector corresponding to the count of the classification per entry.\n",
    "    \n",
    "    Structure classes are:\n",
    "        H: helix\n",
    "        I: 5-helix\n",
    "        G: 3-helix\n",
    "        E: extended\n",
    "        B: bridge\n",
    "        T: turn\n",
    "        S: bend\n",
    "        ~: loop (unstructured)\n",
    "    '''\n",
    "    return np.char.count(s.astype(str), classification) - 4\n"
   ]
  },
  {
   "cell_type": "code",
   "execution_count": null,
   "metadata": {},
   "outputs": [],
   "source": []
  },
  {
   "cell_type": "markdown",
   "metadata": {},
   "source": []
  },
  {
   "cell_type": "markdown",
   "metadata": {},
   "source": [
    "## Assignment 2: Multivariate Linear Regression (10 points)\n",
    "\n",
    "Use the coordinate data from the same data file (`alpha-helix-starts-4-5.dat`) and the principal coordinates from Assignment 1. If doing MDS didn't work out, you can load the same data from `alpha-helix-pcoa.dat`. The principal coordinates in that file correspond to the slice \\[::50\\] from the original data.\n",
    "\n",
    "Assignment:\n",
    "\n",
    "- Perform multivariate linear regression to construct a model for predicting the principal coordinates (from sequences) from the coordinates. Note that some coordinates were set to 0 during alignment. These have 0 variance, and should be excluded.\n",
    "\n",
    "- Plot the _estimated_ principal coordinates against the _actual_ principal coordinates. \n",
    "\n",
    "- Reflect on the quality of the regression model and the possibility to predict the structure classification from the coordinates using regression.\n",
    "\n",
    "Assessment:\n",
    "\n",
    "- Correct application of MDS\n",
    "- Proper graphical representations\n",
    "- Assessment and interpretation of regression\n",
    "- Interpretation of and reflection on results"
   ]
  },
  {
   "cell_type": "code",
   "execution_count": null,
   "metadata": {},
   "outputs": [],
   "source": []
  },
  {
   "cell_type": "markdown",
   "metadata": {},
   "source": []
  },
  {
   "cell_type": "markdown",
   "metadata": {},
   "source": [
    "## Assignment 3: Factor Analysis  (10 points)\n",
    "\n",
    "The file `AA.dat` contains physical and chemical parameters for a range of natural and unnatural amino acids. The properties are:\n",
    "\n",
    "- MW: Molecular weight (size)\n",
    "- TL1-7: ?\n",
    "- vdW: Van-der-Waals volume\n",
    "- logP: Oil-water partition coefficient (hydrophobicity)\n",
    "- EHOMO: Highest occupied molecular orbital\n",
    "- ELUMO: Lowest unoccupied molecular orbital\n",
    "- HOF: Heat of formation\n",
    "- POLAR: Polarity\n",
    "- EN: ?\n",
    "- HA: ?\n",
    "- Stot: Total surface area\n",
    "- Spol: Polar surface area\n",
    "- Snp: Non-polar surface area\n",
    "- HDONR: Is-a-hydrogen-donor\n",
    "- HACCR: Is-a-hydrogen-acceptor\n",
    "- Chpos: Positive charge\n",
    "- Chneg: Negative charge\n",
    "\n",
    "Assignment:\n",
    "\n",
    "- Perform Factor Analysis on the data\n",
    "- Plot the results as a biplot\n",
    "- Interpret the results and give an interpretation of the factors/components\n",
    "\n",
    "Assessment:\n",
    "\n",
    "- Correct application of Factor Analysis with justification of choices made\n",
    "- Proper graphical representations\n",
    "- Assessment and interpretation of regression\n",
    "- Interpretation of and reflection on results"
   ]
  },
  {
   "cell_type": "code",
   "execution_count": null,
   "metadata": {},
   "outputs": [],
   "source": []
  },
  {
   "cell_type": "markdown",
   "metadata": {},
   "source": []
  },
  {
   "cell_type": "markdown",
   "metadata": {},
   "source": [
    "***\n",
    "\n",
    "<div class=\"alert alert-warning\">\n",
    "<b>After finishing:</b>\n",
    "<ol><li>\n",
    "Rename your notebook with your name and student number, like `JohnDoe_123456`, using the menu option `File` > `Rename`.\n",
    "</li><li>\n",
    "Evaluate the notebook by means of the menu option `Kernel` > `Restart & Run All` and check that your notebook runs without errors.\n",
    "</li><li>\n",
    "Save the evaluated notebook using the menu option `File` > `Save and Checkpoint`.\n",
    "</li><li>\n",
    "Open a terminal, change to the desktop folder using `cd ~/Desktop`, and submit your work using a command like `submit_your_work 123456 JohnDoe_123456.ipynb` (enter `submit_your_work --help` to get help on submit script usage).\n",
    "</li><li>\n",
    "After getting clearance from the person monitoring the exam, you are free to leave.\n",
    "</li></ol>\n",
    "</div>\n",
    "\n",
    "#### Success!"
   ]
  }
 ],
 "metadata": {
  "kernelspec": {
   "display_name": "Python 3",
   "language": "python",
   "name": "python3"
  },
  "language_info": {
   "codemirror_mode": {
    "name": "ipython",
    "version": 3
   },
   "file_extension": ".py",
   "mimetype": "text/x-python",
   "name": "python",
   "nbconvert_exporter": "python",
   "pygments_lexer": "ipython3",
   "version": "3.9.1"
  }
 },
 "nbformat": 4,
 "nbformat_minor": 4
}
